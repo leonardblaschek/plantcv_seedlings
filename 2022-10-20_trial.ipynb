{
 "cells": [
  {
   "cell_type": "code",
   "execution_count": 52,
   "id": "21d02f01-8e72-45e3-bf1c-7cfe59f4749c",
   "metadata": {},
   "outputs": [],
   "source": [
    "# Import Libraries \n",
    "%matplotlib inline\n",
    "import os\n",
    "import argparse\n",
    "import matplotlib\n",
    "import cv2\n",
    "import numpy as np\n",
    "import skimage.graph\n",
    "import imutils\n",
    "import csv\n",
    "\n",
    "from plantcv import plantcv as pcv"
   ]
  },
  {
   "cell_type": "code",
   "execution_count": 53,
   "id": "fb2b230b-e9eb-4134-8d20-2c9c67a5804c",
   "metadata": {},
   "outputs": [],
   "source": [
    "class options:\n",
    "    def __init__(self):\n",
    "        self.image = \"/data/2022_root_robot/trial_seedlings/Input/wavy_roots.tif\"\n",
    "        self.debug = \"plot\"\n",
    "        self.writeimg= False\n",
    "        self.result = \"vis_tutorial_results.json\"\n",
    "        self.outdir = \"/data/2022_root_robot/trial_seedlings/Output/\"\n",
    "        \n",
    "# Get options\n",
    "args = options()\n",
    "\n",
    "# Set debug to the global parameter \n",
    "pcv.params.debug = args.debug"
   ]
  },
  {
   "cell_type": "code",
   "execution_count": 54,
   "id": "9051b20c-8b1b-4333-a060-7103a161792d",
   "metadata": {},
   "outputs": [],
   "source": [
    "# Get options\n",
    "args = options()\n",
    "\n",
    "# Set debug to the global parameter \n",
    "pcv.params.debug = args.debug"
   ]
  },
  {
   "cell_type": "code",
   "execution_count": null,
   "id": "0c0c917e-0d03-4da5-8e21-cde02bf6ec86",
   "metadata": {},
   "outputs": [],
   "source": [
    "# Read image\n",
    "\n",
    "# Inputs:\n",
    "#   filename - Image file to be read in \n",
    "#   mode - How to read in the image; either 'native' (default), 'rgb', 'gray', or 'csv'\n",
    "img_full, path, filename = pcv.readimage(filename=args.image)"
   ]
  },
  {
   "cell_type": "code",
   "execution_count": null,
   "id": "e9b8ed5c-9802-43b4-892b-490c1698004d",
   "metadata": {},
   "outputs": [],
   "source": [
    "# Crop image\n",
    "roi_y = int(round(img_full.shape[0] * 0.05))\n",
    "roi_x = int(round(img_full.shape[1] * 0.05))\n",
    "roi_h = int(round(img_full.shape[0] - (img_full.shape[0] * 0.1)))\n",
    "roi_w = int(round(img_full.shape[1] - (img_full.shape[1] * 0.1)))\n",
    "\n",
    "\n",
    "img = pcv.crop(img=img_full, x=roi_x, y=roi_y, h=roi_h, w=roi_w)"
   ]
  },
  {
   "cell_type": "code",
   "execution_count": null,
   "id": "9dd648df-7d91-4c91-85bd-4050730110d3",
   "metadata": {},
   "outputs": [],
   "source": [
    "# Inspect LAB and HSV channels\n",
    "l = pcv.rgb2gray_lab(img, \"l\")\n",
    "a = pcv.rgb2gray_lab(img, \"a\")\n",
    "b = pcv.rgb2gray_lab(img, \"b\")\n",
    "\n",
    "h = pcv.rgb2gray_hsv(img, \"h\")\n",
    "s = pcv.rgb2gray_hsv(img, \"s\")\n",
    "v = pcv.rgb2gray_hsv(img, \"v\")"
   ]
  },
  {
   "cell_type": "code",
   "execution_count": null,
   "id": "308ca33d-60ff-4cd0-af21-246e698f3d8a",
   "metadata": {},
   "outputs": [],
   "source": [
    "# Plot S (HSV) and A (LAB) channel\n",
    "hist = pcv.visualize.histogram(img=s)\n",
    "hist = pcv.visualize.histogram(img=a)"
   ]
  },
  {
   "cell_type": "code",
   "execution_count": null,
   "id": "b60db958-d179-45a2-b771-1026912f6766",
   "metadata": {},
   "outputs": [],
   "source": [
    "# Mask leaves\n",
    "leaves, leaves_masked = pcv.threshold.custom_range(img=img, lower_thresh=[0,0,0], upper_thresh=[255,119,255], channel='LAB')\n",
    "pcv.print_image(leaves_masked, \"leaves.png\")\n",
    "\n",
    "# Mask whole plant\n",
    "plant, plant_masked = pcv.threshold.custom_range(img=img, lower_thresh=[0,0,0], upper_thresh=[255,72,255], channel='HSV')\n",
    "pcv.print_image(plant_masked, \"plant.png\")"
   ]
  },
  {
   "cell_type": "code",
   "execution_count": null,
   "id": "243761c0-8ea3-4276-9bf9-d97d0ddf6fa9",
   "metadata": {},
   "outputs": [],
   "source": [
    "# Subtract leaves from plant\n",
    "root_raw = pcv.image_subtract(plant, leaves)"
   ]
  },
  {
   "cell_type": "code",
   "execution_count": null,
   "id": "19208f53-b5ff-4ba6-8f2f-e74673d73181",
   "metadata": {},
   "outputs": [],
   "source": [
    "# Remove noise\n",
    "root_clean = pcv.fill(root_raw, 500)\n",
    "\n",
    "# Dilate to close gaps\n",
    "root_dilated = pcv.dilate(root_clean, 2, 2)\n",
    "\n",
    "# Erode to narrow contour\n",
    "root_eroded = pcv.erode(root_dilated, 2, 2)\n",
    "\n",
    "# Fill holes to merge multiple contours per seedling into one\n",
    "root = pcv.fill_holes(root_eroded)\n",
    "\n",
    "# Print intermediate output to file\n",
    "pcv.print_image(root_clean, \"clean.png\")\n",
    "pcv.print_image(root_dilated, \"dilated.png\")\n",
    "pcv.print_image(root, \"segmented.png\")"
   ]
  },
  {
   "cell_type": "code",
   "execution_count": null,
   "id": "e5a8d594-90fa-4d16-bc46-090615b446cd",
   "metadata": {},
   "outputs": [],
   "source": [
    "# Find objects\n",
    "id_objects, obj_hierarchy = pcv.find_objects(img=img, mask=root)"
   ]
  },
  {
   "cell_type": "code",
   "execution_count": null,
   "id": "8576349b-18d8-4e91-a840-1012ac50d6d4",
   "metadata": {},
   "outputs": [],
   "source": [
    "# Define the ROI as a rectangle relative to image size, covering 80% of the width and 60% of the height\n",
    "roi_y = int(round(img.shape[0] * 0.1))\n",
    "roi_x = int(round(img.shape[1] * 0.05))\n",
    "roi_h = int(round(img.shape[0] - (img.shape[0] * 0.2)))\n",
    "roi_w = int(round(img.shape[1] - (img.shape[1] * 0.1)))\n",
    "\n",
    "roi_contour, roi_hierarchy = pcv.roi.rectangle(img, x = roi_x, y = roi_y, h = roi_h, w = roi_w)"
   ]
  },
  {
   "cell_type": "code",
   "execution_count": null,
   "id": "28738def-cf36-4702-a7ac-388a2edb26c3",
   "metadata": {},
   "outputs": [],
   "source": [
    "# Keep objects that overlap with the ROI\n",
    "# Inputs:\n",
    "#    img            = img to display kept objects\n",
    "#    roi_type       = 'cutto' or 'partial' (for partially inside)\n",
    "#    roi_contour    = contour of roi, output from \"View and Ajust ROI\" function\n",
    "#    roi_hierarchy  = contour of roi, output from \"View and Ajust ROI\" function\n",
    "#    object_contour = contours of objects, output from \"Identifying Objects\" fuction\n",
    "#    obj_hierarchy  = hierarchy of objects, output from \"Identifying Objects\" fuction\n",
    "\n",
    "roi_objects, roi_obj_hierarchy, kept_mask, obj_area = pcv.roi_objects(img = img, \n",
    "                                                                      roi_type = 'partial', \n",
    "                                                                      roi_contour = roi_contour,\n",
    "                                                                      roi_hierarchy = roi_hierarchy, \n",
    "                                                                      object_contour = id_objects, \n",
    "                                                                      obj_hierarchy = obj_hierarchy)\n",
    "pcv.print_image(kept_mask, \"mask.png\")"
   ]
  },
  {
   "cell_type": "code",
   "execution_count": null,
   "id": "1c9b3ca4-1d75-4e09-93bc-336bbd83d7ce",
   "metadata": {},
   "outputs": [],
   "source": [
    "# Print identified objects to file\n",
    "plotting_img = pcv.visualize.obj_sizes(img=img, mask=kept_mask)\n",
    "pcv.print_image(plotting_img, \"objects.png\")"
   ]
  },
  {
   "cell_type": "code",
   "execution_count": null,
   "id": "0444dff3-f593-4f78-a3dc-7e023d59c851",
   "metadata": {},
   "outputs": [],
   "source": [
    "# Define function to find shortest path through a mask\n",
    "def shortest_path(start,end,binary):\n",
    "    costs = np.where(binary,1,1000)\n",
    "    path, cost = skimage.graph.route_through_array(costs, start=start, end=end, fully_connected=True, geometric=True)\n",
    "    return path,cost"
   ]
  },
  {
   "cell_type": "code",
   "execution_count": null,
   "id": "30f36bf0-c9e6-4aa0-b144-938dee093d18",
   "metadata": {},
   "outputs": [],
   "source": [
    "# Create copies of the image for analysis annotations\n",
    "shape_img = np.copy(img)\n",
    "root_img = np.copy(img)\n",
    "skeleton_img = np.copy(img)\n",
    "\n",
    "# Turn off plot debugging\n",
    "pcv.params.debug = None\n",
    "\n",
    "# Write .csv column names\n",
    "with open(r'root_lengths.csv', 'a') as f:\n",
    "    writer = csv.writer(f)\n",
    "    writer.writerow(['filename', 'method', 'seedling ID', 'root length [pixels]', 'height of convex hull'])\n",
    "\n",
    "# Interate through all objects and do a shape and color analysis\n",
    "for i in range(0, len(roi_objects)):\n",
    "    # Check to see if the object has an offshoot in the hierarchy\n",
    "    if roi_obj_hierarchy[0][i][3] == -1:\n",
    "        # Create an object and a mask for one object\n",
    "        seedling, seedling_mask = pcv.object_composition(img=img, contours=[roi_objects[i]], hierarchy=np.array([[roi_obj_hierarchy[0][i]]]))\n",
    "        \n",
    "        # Check whether object contains >1 seedling, skip object if true\n",
    "        M,D,N = seedling.shape\n",
    "        seedling_reshaped = seedling.reshape((M,2))\n",
    "        seedling_uniqueX = np.unique(seedling_reshaped[:,1])\n",
    "        wide_counter = 0\n",
    "\n",
    "        for j in range(len(seedling_uniqueX)):\n",
    "            indU = np.where(seedling_reshaped[:,1]==seedling_uniqueX[[j]])\n",
    "            seedlingX = seedling_reshaped[indU]\n",
    "            if(len(seedlingX)>1):\n",
    "                for m in range(len(seedlingX)-1):\n",
    "                    if(np.abs((seedlingX[m][0]-seedlingX[m+1][0]))>100):\n",
    "                        wide_counter = wide_counter + 1\n",
    "                        #print('this is the x,y values: ', seedlingX[m],seedlingX[m+1])\n",
    "                        \n",
    "        if wide_counter > 0:\n",
    "            continue\n",
    "        \n",
    "        # Analyze shape of each seed\n",
    "        shape_img = pcv.analyze_object(img=shape_img, obj=seedling, mask=seedling_mask, label=\"default\")\n",
    "        root_height = pcv.outputs.observations['default']['height']['value']\n",
    "        \n",
    "        # SKELETON\n",
    "        method = 'skeleton'\n",
    "        # Skeletonize each seedling\n",
    "        skeleton_raw = pcv.morphology.skeletonize(mask=seedling_mask)\n",
    "        skeleton = pcv.dilate(skeleton_raw, 3, 1)\n",
    "        # Find dilated skeleton contour\n",
    "        seedling_contour = cv2.findContours(skeleton, cv2.RETR_EXTERNAL, cv2.CHAIN_APPROX_SIMPLE)\n",
    "        c = imutils.grab_contours(seedling_contour)\n",
    "        # Find y-axis extremes (hypocotyl and root tip)\n",
    "        hyp = tuple(c[0][c[0][:,:, 1].argmin()][0])\n",
    "        tip = tuple(c[0][c[0][:,:, 1].argmax()][0])\n",
    "        # Find shortest path from hypocotyl to root tip through the root skeleton\n",
    "        primary_root, cost = shortest_path(tip[::-1], hyp[::-1], skeleton)\n",
    "        primary_root_array = np.flip(np.array(primary_root))\n",
    "        primary_root_array = primary_root_array.reshape((-1, 1, 2))\n",
    "        skeleton_img = cv2.polylines(skeleton_img, primary_root_array, True, (69,189,232), 5)\n",
    "        skeleton_img = cv2.putText(skeleton_img, str(i), hyp, cv2.FONT_HERSHEY_DUPLEX, 1, (69,189,232), 2, cv2.LINE_AA)\n",
    "        #export data\n",
    "        with open(r'root_lengths.csv', 'a') as f:\n",
    "            writer = csv.writer(f)\n",
    "            writer.writerow([filename, method, i, cost, root_height])\n",
    "        \n",
    "        # CONTOUR\n",
    "        method = 'contour'\n",
    "        # Find root contour\n",
    "        seedling_contour = cv2.findContours(seedling_mask, cv2.RETR_EXTERNAL, cv2.CHAIN_APPROX_SIMPLE)\n",
    "        c = imutils.grab_contours(seedling_contour)\n",
    "        # Find y-axis extremes (hypocotyl and root tip)\n",
    "        hyp = tuple(c[0][c[0][:,:, 1].argmin()][0])\n",
    "        tip = tuple(c[0][c[0][:,:, 1].argmax()][0])\n",
    "        # Find shortest path from hypocotyl to root tip through the root contour\n",
    "        primary_root, cost = shortest_path(tip[::-1], hyp[::-1], seedling_mask)\n",
    "        primary_root_array = np.flip(np.array(primary_root))\n",
    "        primary_root_array = primary_root_array.reshape((-1, 1, 2))\n",
    "        root_img = cv2.polylines(root_img, primary_root_array, True, (69,189,232), 5)\n",
    "        root_img = cv2.putText(root_img, str(i), hyp, cv2.FONT_HERSHEY_DUPLEX, 1, (69,189,232), 2, cv2.LINE_AA)\n",
    "        #export data\n",
    "        with open(r'root_lengths.csv', 'a') as f:\n",
    "            writer = csv.writer(f)\n",
    "            writer.writerow([filename, method, i, cost, root_height])\n",
    "            "
   ]
  },
  {
   "cell_type": "code",
   "execution_count": null,
   "id": "79978c4c-9b00-4abb-8085-f79a09e904e3",
   "metadata": {},
   "outputs": [],
   "source": [
    "pcv.plot_image(img=shape_img)\n",
    "pcv.print_image(shape_img, \"shape_img.png\")\n",
    "pcv.plot_image(img=root_img)\n",
    "pcv.print_image(root_img, \"root_img.png\")\n",
    "pcv.plot_image(img=skeleton_img)\n",
    "pcv.print_image(skeleton_img, \"skeleton_img.png\")"
   ]
  }
 ],
 "metadata": {
  "kernelspec": {
   "display_name": "Python 3 (ipykernel)",
   "language": "python",
   "name": "python3"
  },
  "language_info": {
   "codemirror_mode": {
    "name": "ipython",
    "version": 3
   },
   "file_extension": ".py",
   "mimetype": "text/x-python",
   "name": "python",
   "nbconvert_exporter": "python",
   "pygments_lexer": "ipython3",
   "version": "3.9.12"
  }
 },
 "nbformat": 4,
 "nbformat_minor": 5
}
